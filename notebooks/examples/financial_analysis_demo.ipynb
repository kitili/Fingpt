{
  "cells": [
    {
      "cell_type": "markdown",
      "metadata": {},
      "source": [
        "# FinGPT for Everyone - Financial Analysis Demo\n",
        "\n",
        "This notebook demonstrates how computer science concepts can be applied to solve financial problems.\n",
        "\n",
        "## Table of Contents\n",
        "1. [Market Data Collection](#market-data)\n",
        "2. [Sentiment Analysis](#sentiment)\n",
        "3. [Portfolio Optimization](#portfolio)\n",
        "4. [Risk Analysis](#risk)\n",
        "5. [Visualization](#visualization)\n"
      ]
    },
    {
      "cell_type": "code",
      "execution_count": null,
      "metadata": {},
      "outputs": [],
      "source": [
        "# Import required libraries\n",
        "import sys\n",
        "import os\n",
        "import pandas as pd\n",
        "import numpy as np\n",
        "import matplotlib.pyplot as plt\n",
        "import seaborn as sns\n",
        "import plotly.graph_objects as go\n",
        "import plotly.express as px\n",
        "from plotly.subplots import make_subplots\n",
        "import warnings\n",
        "warnings.filterwarnings('ignore')\n",
        "\n",
        "# Add src to path\n",
        "sys.path.append(os.path.join('..', '..'))\n",
        "\n",
        "# Import our modules\n",
        "from src.data.collectors.market_data import MarketDataCollector\n",
        "from src.analysis.sentiment.financial_sentiment import FinancialSentimentAnalyzer\n",
        "from src.models.optimization.portfolio_optimizer import PortfolioOptimizer\n",
        "\n",
        "# Set style\n",
        "plt.style.use('seaborn-v0_8')\n",
        "sns.set_palette(\"husl\")\n",
        "\n",
        "print(\"✅ Libraries imported successfully!\")\n"
      ]
    }
  ],
  "metadata": {
    "language_info": {
      "name": "python"
    }
  },
  "nbformat": 4,
  "nbformat_minor": 2
}
